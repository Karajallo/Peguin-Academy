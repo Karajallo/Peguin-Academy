{
  "nbformat": 4,
  "nbformat_minor": 0,
  "metadata": {
    "colab": {
      "name": "Penguin_bootcamp_abril_homework.ipynb",
      "provenance": [],
      "collapsed_sections": [],
      "include_colab_link": true
    },
    "kernelspec": {
      "name": "python3",
      "display_name": "Python 3"
    },
    "language_info": {
      "name": "python"
    }
  },
  "cells": [
    {
      "cell_type": "markdown",
      "metadata": {
        "id": "view-in-github",
        "colab_type": "text"
      },
      "source": [
        "<a href=\"https://colab.research.google.com/github/Karajallo/Peguin-Academy/blob/main/Penguin_bootcamp_abril_homework.ipynb\" target=\"_parent\"><img src=\"https://colab.research.google.com/assets/colab-badge.svg\" alt=\"Open In Colab\"/></a>"
      ]
    },
    {
      "cell_type": "markdown",
      "source": [
        "### *Hola Chicos!*\n",
        "# Por **pedido popular**, acá van alguinos ejercicios:\n",
        "## Buena suerte 🐧 🐧 🐧\n",
        "#### P.D.: Vamos a cambiar un poco la temática.\n",
        "#### P.D. 2: No olviden guardar una copia de esta notebook en sus cuentas de Drive"
      ],
      "metadata": {
        "id": "WXFkVzFkQ4kK"
      }
    },
    {
      "cell_type": "markdown",
      "source": [
        "Made with ❤ by: Enri"
      ],
      "metadata": {
        "id": "TF_B6wYzl3Vb"
      }
    },
    {
      "cell_type": "markdown",
      "source": [
        "[Tutorial by Alexa sobre cómo usar Google Colab](https://drive.google.com/file/d/1zhInc7FysE6dkcYVuBIklcLO7fHEhEOA/view?usp=sharing)"
      ],
      "metadata": {
        "id": "nfz7NOb8F2l6"
      }
    },
    {
      "cell_type": "markdown",
      "source": [
        "---"
      ],
      "metadata": {
        "id": "YHJnIw2tWIPX"
      }
    },
    {
      "cell_type": "markdown",
      "source": [
        "\n",
        "# Ejercicio 1:\n",
        "\n"
      ],
      "metadata": {
        "id": "VQPCg7pySAZS"
      }
    },
    {
      "cell_type": "markdown",
      "source": [
        "## Saludar a los nuevos Pinguinos.\n",
        "### Datos a solicitar:\n",
        "\n",
        "\n",
        "1.   nombre\n",
        "2.   apellido\n",
        "3.   ciudad_de_origen\n",
        "\n",
        "*Hint: pensá bien en los nombres de las variables.*\n",
        "\n",
        "\n",
        "### ¿Cómo debe verse el resultado?\n",
        "#### Algo así:\n",
        "\n",
        "\n",
        "```\n",
        "Hola Enrique Zárate de Asunción! Bienvenido al campamento de Penguin!\n",
        "```"
      ],
      "metadata": {
        "id": "H5I-seinTeED"
      }
    },
    {
      "cell_type": "code",
      "source": [
        "### Hola! Con los comments, voy a darles una ayuda para estructurar sus códigos:\n",
        "\n",
        "## Paso 1: Solicitar y almacenar los datos\n",
        "\n",
        "#   Acá va tu código\n",
        "nombre= input(\"Agrega tu nombre: \")\n",
        "apellido= input(\"Agrega tu apellido: \")\n",
        "ciudad= input (\"Agrega tu ciudad: \")\n",
        "\n",
        "# Paso 2: Saludar al nuevo Pinguino!\n",
        "\n",
        "#   Acá va tu código\n",
        "print (\"Hola\",nombre,apellido,\"de\",ciudad,\"! Bienvenido al campamento de Penguin!\")\n",
        "\n",
        "\n"
      ],
      "metadata": {
        "id": "k-A8CWbXU_rb",
        "colab": {
          "base_uri": "https://localhost:8080/"
        },
        "outputId": "28aa88d9-1531-44fc-e27b-88591e3020c5"
      },
      "execution_count": 3,
      "outputs": [
        {
          "output_type": "stream",
          "name": "stdout",
          "text": [
            "Agrega tu nombre: Mario\n",
            "Agrega tu apellido: Karajallo\n",
            "Agrega tu ciudad: Encarnacion\n",
            "Hola Mario Karajallo de Encarnacion ! Bienvenido al campamento de Penguin!\n"
          ]
        }
      ]
    },
    {
      "cell_type": "markdown",
      "source": [
        "### bonus challenge: usamos .format \n",
        "documentación (cómo se usa): https://www.w3schools.com/python/ref_string_format.asp"
      ],
      "metadata": {
        "id": "S0439HAKYUdC"
      }
    },
    {
      "cell_type": "markdown",
      "source": [
        "ejemplo:\n",
        "\n",
        "\n",
        "```\n",
        "print(\"Soy {} de {} años\".format(\"Enrique\", 21))\n",
        "Soy Enrique de 21 años\n",
        "```\n",
        "\n"
      ],
      "metadata": {
        "id": "j4PwbuyzYbA0"
      }
    },
    {
      "cell_type": "code",
      "source": [
        "#   acá va tu código\n",
        "print(\"Soy {nombre} de {anos} años\".format(nombre=\"Mario\",anos=30))\n",
        "\n"
      ],
      "metadata": {
        "id": "QJZv4NRPYnJ1",
        "colab": {
          "base_uri": "https://localhost:8080/"
        },
        "outputId": "b10281fa-9489-439c-ecb2-3cf5d1fe0a97"
      },
      "execution_count": 8,
      "outputs": [
        {
          "output_type": "stream",
          "name": "stdout",
          "text": [
            "Soy Mario de 30 años\n"
          ]
        }
      ]
    },
    {
      "cell_type": "markdown",
      "source": [
        "---"
      ],
      "metadata": {
        "id": "gLNlghrvWNT5"
      }
    },
    {
      "cell_type": "markdown",
      "source": [
        "\n",
        "# Ejercicio 2\n",
        "## Tu peso en otro planeta: **Marte**\n",
        "### En la Tierra, la fuerza de la gravedad es de 9.8 mts^2.\n",
        "### Tu tarea es investigar qué formula podemos utilizar para obtener el equivalente de peso en **Marte**."
      ],
      "metadata": {
        "id": "qWa_A_8PS69d"
      }
    },
    {
      "cell_type": "code",
      "source": [
        "# Paso 1: Pedir datos al usuario\n",
        "peso=int(input(\"Cual es tu peso en kg: \"))\n",
        "\n",
        "# Paso 2: Calcular nuevo_peso\n",
        "pesoMarte=(peso/9.81)*3.71\n",
        "\n",
        "\n",
        "# Paso 3: Decirle al usuario su nuevo peso\n",
        "print (round(pesoMarte,2))\n",
        "\n"
      ],
      "metadata": {
        "id": "tzumC5I8S-V4",
        "colab": {
          "base_uri": "https://localhost:8080/"
        },
        "outputId": "a5df8d39-d0d6-44e0-90fb-1c83c0079fa4"
      },
      "execution_count": 18,
      "outputs": [
        {
          "output_type": "stream",
          "name": "stdout",
          "text": [
            "Cual es tu peso en kg: 75\n",
            "28.36\n"
          ]
        }
      ]
    },
    {
      "cell_type": "markdown",
      "source": [
        "# Ejercicio 3\n",
        "## Tu peso en otro planeta: **Júpiter**\n",
        "### Tu tarea es investigar qué formula podemos utilizar para obtener el equivalente de peso en **Júpiter**."
      ],
      "metadata": {
        "id": "s1_gjnCAdOxW"
      }
    },
    {
      "cell_type": "code",
      "source": [
        "# Paso 1: Pedir datos al usuario\n",
        "peso=int(input(\"Cual es tu peso en kg: \"))\n",
        "\n",
        "# Paso 2: Calcular nuevo_peso\n",
        "pesoJupiter=(peso/9.81)*24.79\n",
        "\n",
        "\n",
        "# Paso 3: Decirle al usuario su nuevo peso\n",
        "print (round(pesoJupiter,2))\n",
        "\n",
        "\n"
      ],
      "metadata": {
        "id": "KBLmOiQ8dUeA",
        "colab": {
          "base_uri": "https://localhost:8080/"
        },
        "outputId": "303e5c12-5453-4b2c-af24-3a929047d474"
      },
      "execution_count": 17,
      "outputs": [
        {
          "output_type": "stream",
          "name": "stdout",
          "text": [
            "Cual es tu peso en kg: 75\n",
            "189.53\n"
          ]
        }
      ]
    },
    {
      "cell_type": "markdown",
      "source": [
        "# Ejercicio 4\n",
        "## Tu peso en otro planeta: Elige tu planeta\n",
        "### La tarea es crear un programa donde el usuario\n",
        "\n",
        "\n",
        "1.   Ingrese su peso\n",
        "2.   Elija el planeta (1 para Marte y 2 para Jupiter)\n",
        "\n",
        "Esto lo haremos con un bucle"
      ],
      "metadata": {
        "id": "yOV-t70EeEHW"
      }
    },
    {
      "cell_type": "code",
      "source": [
        "#   acá va tu código\n",
        "peso = int(input(\"Introduce tu peso en kg: \"))\n",
        "\n",
        "def pedirPeso():\n",
        "    correcto=False\n",
        "    planeta=0\n",
        "    while(not correcto):\n",
        "        try:\n",
        "            planeta = int(input(\"Introduce planeta: \"))\n",
        "            correcto=True\n",
        "        except ValueError:\n",
        "            print('Error, introducir un peso')\n",
        "     \n",
        "    return planeta\n",
        " \n",
        "salir = False\n",
        "opcion = 0\n",
        " \n",
        "while not salir:\n",
        " \n",
        "    print (\"1. Peso en Marte\")\n",
        "    print (\"2. Pesos en Jupiter\")\n",
        "    print (\"3. Salir\")\n",
        "     \n",
        "    print (\"Elige una opcion\")\n",
        " \n",
        "    opcion = pedirPeso()\n",
        " \n",
        "    if opcion == 1:\n",
        "        print (\"tu peso en marte es: {}\\n\".format(round((peso/9.81)*3.71),2))\n",
        "    elif opcion == 2:\n",
        "        print (\"tu peso en jupiter es: {}\\n\".format(round((peso/9.81)*24.79),2))\n",
        "    elif opcion == 3:\n",
        "        salir = True\n",
        "    else:\n",
        "        print (\"Introduce la opciones entre 1 y 3\\n\")\n",
        " \n",
        "print (\"Fin\")\n",
        "\n"
      ],
      "metadata": {
        "id": "5PhH1cKbej8j",
        "colab": {
          "base_uri": "https://localhost:8080/"
        },
        "outputId": "b8e3e8f2-d0cf-4c68-b9f5-728d42f9ddba"
      },
      "execution_count": 31,
      "outputs": [
        {
          "output_type": "stream",
          "name": "stdout",
          "text": [
            "Introduce tu peso en kg: 75\n",
            "1. Peso en Marte\n",
            "2. Pesos en Jupiter\n",
            "3. Salir\n",
            "Elige una opcion\n",
            "Introduce planeta: 1\n",
            "tu peso en marte es: 28\n",
            "\n",
            "1. Peso en Marte\n",
            "2. Pesos en Jupiter\n",
            "3. Salir\n",
            "Elige una opcion\n",
            "Introduce planeta: 2\n",
            "tu peso en jupiter es: 190\n",
            "\n",
            "1. Peso en Marte\n",
            "2. Pesos en Jupiter\n",
            "3. Salir\n",
            "Elige una opcion\n",
            "Introduce planeta: 4\n",
            "Introduce la opciones entre 1 y 3\n",
            "\n",
            "1. Peso en Marte\n",
            "2. Pesos en Jupiter\n",
            "3. Salir\n",
            "Elige una opcion\n",
            "Introduce planeta: 3\n",
            "Fin\n"
          ]
        }
      ]
    },
    {
      "cell_type": "markdown",
      "source": [
        "---"
      ],
      "metadata": {
        "id": "u7vccbiHgcya"
      }
    },
    {
      "cell_type": "markdown",
      "source": [
        "# Ejercicio 5\n",
        "### Pedir al usuario **6 ingredientes** para su plato favorito, cargarlos a una lista y generar una lista en orden alfabético.\n",
        "ejemplo del resultado final: \n",
        "\n",
        "\n",
        "```\n",
        "1.   Tomate\n",
        "2.   Cebolla\n",
        "3.   Locote\n",
        "4.   ...\n",
        "\n",
        "```\n",
        "\n"
      ],
      "metadata": {
        "id": "dYvxuDSzfiH_"
      }
    },
    {
      "cell_type": "code",
      "source": [
        "#   acá va tu código\n",
        "cont=0;\n",
        "lis=[]\n",
        "while cont <6:\n",
        "    cont+=1\n",
        "    ingrediente=input(\"Agregar ingrediente\")\n",
        "    lis +=[ingrediente]\n",
        "\n",
        "print (\"lista de ingredientes:\",lis)\n",
        "lisOrd=sorted(lis)\n",
        "\n",
        "for i in range (len(lisOrd)):\n",
        "  print (i+1,\".\",lisOrd[i])\n",
        "  \n",
        "\n",
        "\n",
        "\n"
      ],
      "metadata": {
        "id": "Xk-oYbuXgZPa",
        "colab": {
          "base_uri": "https://localhost:8080/"
        },
        "outputId": "27db2310-8804-426a-b1b7-10d4663a85e9"
      },
      "execution_count": 7,
      "outputs": [
        {
          "output_type": "stream",
          "name": "stdout",
          "text": [
            "Agregar ingredientetazucar\n",
            "Agregar ingredientetharina\n",
            "Agregar ingredientethuevo\n",
            "Agregar ingredientetleche\n",
            "Agregar ingredientetmiel\n",
            "Agregar ingredientetpan\n",
            "lista de ingredientes: ['azucar', 'harina', 'huevo', 'leche', 'miel', 'pan']\n",
            "1 . azucar\n",
            "2 . harina\n",
            "3 . huevo\n",
            "4 . leche\n",
            "5 . miel\n",
            "6 . pan\n"
          ]
        }
      ]
    },
    {
      "cell_type": "markdown",
      "source": [
        "---"
      ],
      "metadata": {
        "id": "YIupqT1ageZS"
      }
    },
    {
      "cell_type": "markdown",
      "source": [
        "# Ejercicio 6\n",
        "### Imprimir el primer y último elemento de la lista de ingredientes del usuario"
      ],
      "metadata": {
        "id": "ZUVn7Qq7gb9p"
      }
    },
    {
      "cell_type": "code",
      "source": [
        "#   acá va tu código\n",
        "print(lis[0],lis[-1])\n"
      ],
      "metadata": {
        "id": "q6dcMVRzg1dC",
        "colab": {
          "base_uri": "https://localhost:8080/"
        },
        "outputId": "8369d636-34e4-4461-c651-ce41e3e19958"
      },
      "execution_count": 8,
      "outputs": [
        {
          "output_type": "stream",
          "name": "stdout",
          "text": [
            "azucar pan\n"
          ]
        }
      ]
    },
    {
      "cell_type": "markdown",
      "source": [
        "### Imprimir los ingredientes que tengan más de 5 letras"
      ],
      "metadata": {
        "id": "K375W1wlhxex"
      }
    },
    {
      "cell_type": "code",
      "source": [
        "#   acá va tu código\n",
        "print (\"Lita de ingredientes:\",lis)\n",
        "print (\"Total de ingredientes:\",len(lis),\"\\n\")\n",
        "for x in range(len(lis)):\n",
        "  #print (x,lis[x])\n",
        "  if len(lis[x])>5:\n",
        "    print (lis[x],\"contiene mas de 5 caracteres\")\n"
      ],
      "metadata": {
        "id": "CkN0KPKxh57Y",
        "colab": {
          "base_uri": "https://localhost:8080/"
        },
        "outputId": "0f2d4a23-fae6-45be-e231-352ff172cbf5"
      },
      "execution_count": 20,
      "outputs": [
        {
          "output_type": "stream",
          "name": "stdout",
          "text": [
            "Lita de ingredientes: ['azucar', 'harina', 'huevo', 'leche', 'miel', 'pan']\n",
            "Total de ingredientes: 6 \n",
            "\n",
            "azucar contiene mas de 5 caracteres\n",
            "harina contiene mas de 5 caracteres\n"
          ]
        }
      ]
    },
    {
      "cell_type": "markdown",
      "source": [
        "### Imprimir todos los ingredientes en mayúscula.\n",
        "*hint: Python tiene una función que nos ayuda a pasar el texto a mayúscula*"
      ],
      "metadata": {
        "id": "O89BNUSbiR7e"
      }
    },
    {
      "cell_type": "code",
      "source": [
        " #   acá va tu código\n",
        "for x in range(len(lis)):\n",
        "  print (lis[x].upper())\n",
        " "
      ],
      "metadata": {
        "id": "FCjXzFbjikns",
        "colab": {
          "base_uri": "https://localhost:8080/"
        },
        "outputId": "0b3be54c-b22f-4f6a-e52c-29a1eb11945c"
      },
      "execution_count": 26,
      "outputs": [
        {
          "output_type": "stream",
          "name": "stdout",
          "text": [
            "AZUCAR\n",
            "HARINA\n",
            "HUEVO\n",
            "LECHE\n",
            "MIEL\n",
            "PAN\n"
          ]
        }
      ]
    },
    {
      "cell_type": "markdown",
      "source": [
        "## Fin del mensaje ✌"
      ],
      "metadata": {
        "id": "Oqv2loPgLITI"
      }
    },
    {
      "cell_type": "markdown",
      "source": [
        "## Webgrafía"
      ],
      "metadata": {
        "id": "UDGZKlVUMDv9"
      }
    },
    {
      "cell_type": "markdown",
      "source": [
        "https://es.py4e.com/lessons\n",
        "\n",
        "https://inventwithpython.com/es/3.html"
      ],
      "metadata": {
        "id": "T7FGgbLOMixv"
      }
    }
  ]
}