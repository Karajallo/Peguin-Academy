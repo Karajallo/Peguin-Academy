{
 "cells": [
  {
   "cell_type": "markdown",
   "metadata": {},
   "source": [
    "## Diccionario"
   ]
  },
  {
   "cell_type": "code",
   "execution_count": 2,
   "metadata": {},
   "outputs": [
    {
     "name": "stdout",
     "output_type": "stream",
     "text": [
      "{'nombre': 'Mario', 'apellido': 'Karajallo', 'correo': 'mario@hotmail.com'}\n"
     ]
    }
   ],
   "source": [
    "nombre=input('Ingrese Nombre')\n",
    "apellido=input('Ingrese Apellido')\n",
    "correo=input('Ingrese correo')\n",
    "\n",
    "ficha={\n",
    "    'nombre':nombre,\n",
    "    'apellido':apellido,\n",
    "    'correo':correo\n",
    "}\n",
    "\n",
    "print(ficha)"
   ]
  },
  {
   "cell_type": "code",
   "execution_count": 8,
   "metadata": {},
   "outputs": [
    {
     "name": "stdout",
     "output_type": "stream",
     "text": [
      "Hola, mi nombre es Mario me gusta el futbol y estoy aca para aprender lo basico del desarrollo web\n",
      "hola, mi nombre es Mario\n"
     ]
    }
   ],
   "source": [
    "ficha['hobbie']=input('Ingrese Hobbie')\n",
    "print('Hola, mi nombre es',ficha['nombre'],'me gusta el',ficha['hobbie'],'y estoy aca para aprender lo basico del desarrollo web' )\n",
    "print (f\"hola, mi nombre es {ficha['nombre']}\")"
   ]
  },
  {
   "cell_type": "markdown",
   "metadata": {},
   "source": [
    "## Librerias"
   ]
  },
  {
   "cell_type": "code",
   "execution_count": 43,
   "metadata": {},
   "outputs": [
    {
     "name": "stdout",
     "output_type": "stream",
     "text": [
      "https://www.omdbapi.com/?apikey=763a0d3c&t=Avengers\n",
      "Pelicula: Avengers\n",
      "Actores: Robert Downey Jr., Chris Evans, Scarlett Johansson\n",
      "Poster: https://m.media-amazon.com/images/M/MV5BNDYxNjQyMjAtNTdiOS00NGYwLWFmNTAtNThmYjU5ZGI2YTI1XkEyXkFqcGdeQXVyMTMxODk2OTU@._V1_SX300.jpg\n",
      "623,357,910\n",
      "623357910\n",
      "======\n",
      "6870.0\n",
      "Lo recaudado por la pelicula Avengers en Gs es 4,282,468,841,700.0\n"
     ]
    }
   ],
   "source": [
    "import requests\n",
    "from pprint import pprint\n",
    "\n",
    "API_KEYS='763a0d3c'\n",
    "\n",
    "titulo='Avengers'\n",
    "\n",
    "URL= 'https://www.omdbapi.com/?apikey='+API_KEYS+'&t='+titulo\n",
    "print(URL)\n",
    "\n",
    "datosPeliculas=requests.get(URL)\n",
    "datosPeliculas=datosPeliculas.json()\n",
    "# pprint(datosPeliculas)\n",
    "\n",
    "print(\"Pelicula:\",titulo)\n",
    "print(\"Actores:\",datosPeliculas['Actors'])\n",
    "print(\"Poster:\",datosPeliculas['Poster'])\n",
    "recaudacion=datosPeliculas['BoxOffice']\n",
    "\n",
    "#forma 1:\n",
    "quitarExcedente=recaudacion[1:]\n",
    "print (quitarExcedente)\n",
    "\n",
    "#forma 2: metodo replace\n",
    "quitarCaractar=recaudacion.replace('$','').replace(',','')\n",
    "print(quitarCaractar)\n",
    "\n",
    "print('======')\n",
    "llamadaADatos='https://dolar.melizeche.com/api/1.0/'\n",
    "obtencionDatos=requests.get(llamadaADatos)\n",
    "datosDolarPY=obtencionDatos.json()\n",
    "\n",
    "cambiosChacoVenta=datosDolarPY['dolarpy']['cambioschaco']['venta']\n",
    "print(cambiosChacoVenta)\n",
    "recaudacionGs=float(quitarCaractar)*cambiosChacoVenta\n",
    "recaudacionGs2='{:,}'.format(recaudacionGs)\n",
    "print(f'Lo recaudado por la pelicula {titulo} en Gs es {recaudacionGs2}')"
   ]
  }
 ],
 "metadata": {
  "interpreter": {
   "hash": "d852074cd492bad93834d70e84ce445e7455291a4278253607ab8f6dbaa69cbe"
  },
  "kernelspec": {
   "display_name": "Python 3.10.4 64-bit",
   "language": "python",
   "name": "python3"
  },
  "language_info": {
   "codemirror_mode": {
    "name": "ipython",
    "version": 3
   },
   "file_extension": ".py",
   "mimetype": "text/x-python",
   "name": "python",
   "nbconvert_exporter": "python",
   "pygments_lexer": "ipython3",
   "version": "3.10.4"
  },
  "orig_nbformat": 4
 },
 "nbformat": 4,
 "nbformat_minor": 2
}
