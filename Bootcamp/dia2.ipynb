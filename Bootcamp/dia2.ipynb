{
 "cells": [
  {
   "cell_type": "markdown",
   "metadata": {},
   "source": [
    "# Condicionales"
   ]
  },
  {
   "cell_type": "code",
   "execution_count": null,
   "metadata": {},
   "outputs": [],
   "source": []
  },
  {
   "cell_type": "markdown",
   "metadata": {},
   "source": [
    "# Dos Condiciones a la vez"
   ]
  },
  {
   "cell_type": "code",
   "execution_count": null,
   "metadata": {},
   "outputs": [],
   "source": []
  },
  {
   "cell_type": "markdown",
   "metadata": {},
   "source": [
    "# Challenge Condicionales"
   ]
  },
  {
   "cell_type": "code",
   "execution_count": 12,
   "metadata": {},
   "outputs": [
    {
     "name": "stdout",
     "output_type": "stream",
     "text": [
      "fresquete\n"
     ]
    }
   ],
   "source": [
    "temperatura = input (\"Cuantos grados hace: \");\n",
    "grados = int(temperatura);\n",
    "\n",
    "if (grados>=-10 and grados<=18):\n",
    "    print(\"fresquete\");\n",
    "elif (grados>=19 and grados<=30):\n",
    "    print (\"Calor.i\");\n",
    "elif (grados>=31 and grados<=45):\n",
    "    print (\"hakuu!!\");\n",
    "else:\n",
    "    print(\"ñamano mba.e\");\n"
   ]
  },
  {
   "cell_type": "markdown",
   "metadata": {},
   "source": [
    "# bucles condicionales : while"
   ]
  },
  {
   "cell_type": "markdown",
   "metadata": {},
   "source": [
    "# Challenge While"
   ]
  },
  {
   "cell_type": "code",
   "execution_count": 27,
   "metadata": {},
   "outputs": [
    {
     "name": "stdout",
     "output_type": "stream",
     "text": [
      "Ingreso Valido\n"
     ]
    }
   ],
   "source": [
    "contrasena = 12345;\n",
    "while True:\n",
    "        consulta=int(input(\"Ingrese contrasena\"))\n",
    "        if contrasena == consulta:\n",
    "                print(\"Ingreso Valido\")\n",
    "                break\n"
   ]
  },
  {
   "cell_type": "markdown",
   "metadata": {},
   "source": [
    "# bucles iterativoss: for"
   ]
  },
  {
   "cell_type": "code",
   "execution_count": 44,
   "metadata": {},
   "outputs": [
    {
     "name": "stdout",
     "output_type": "stream",
     "text": [
      "1\n",
      "2\n",
      "3\n",
      "4\n",
      "frase\n",
      "frase\n",
      "frase\n",
      "frase\n",
      "frase\n",
      "frase\n",
      "frase\n"
     ]
    }
   ],
   "source": [
    "cosas=[1,2,3,4]\n",
    "for i in cosas:\n",
    "    print(i)\n",
    "\n",
    "for i in range(7):\n",
    "    print(\"frase\")"
   ]
  },
  {
   "cell_type": "markdown",
   "metadata": {},
   "source": [
    "# Listas"
   ]
  },
  {
   "cell_type": "code",
   "execution_count": null,
   "metadata": {},
   "outputs": [],
   "source": [
    "# imprimir variable[posicion]\n",
    "# contar elementos .len\n",
    "# agregar elementos valor .append\n",
    "# agregar elementos posicion .insert\n",
    "# eliminar por valor .remove\n",
    "# eliminar por posicion .pop"
   ]
  },
  {
   "cell_type": "code",
   "execution_count": null,
   "metadata": {},
   "outputs": [],
   "source": []
  },
  {
   "cell_type": "markdown",
   "metadata": {},
   "source": [
    "# challenge Listas"
   ]
  },
  {
   "cell_type": "code",
   "execution_count": 39,
   "metadata": {},
   "outputs": [
    {
     "name": "stdout",
     "output_type": "stream",
     "text": [
      "Integrante: usuario1\n",
      "Integrante: usuario2\n",
      "Integrante: usuario3\n",
      "Integrante: usuario4\n"
     ]
    }
   ],
   "source": [
    "mesa = [\"usuario1\", \"usuario2\", \"usuario3\", \"usuario4\"]\n",
    "print (\"Integrante: \"+mesa[0])\n",
    "print (\"Integrante: \"+mesa[1])\n",
    "print (\"Integrante: \"+mesa[2])\n",
    "print (\"Integrante: \"+mesa[3])"
   ]
  },
  {
   "cell_type": "markdown",
   "metadata": {},
   "source": [
    "# Challenge For"
   ]
  },
  {
   "cell_type": "code",
   "execution_count": 54,
   "metadata": {},
   "outputs": [],
   "source": [
    "frase=input(\"agregar frase\")\n",
    "letra=input(\"agregar letra\")\n",
    "cantidad=0\n",
    "for i in frase:\n",
    "    if letra==i:\n",
    "        cantidad=cantidad+1\n",
    "print(cantidad)  \n"
   ]
  },
  {
   "cell_type": "markdown",
   "metadata": {},
   "source": [
    "# Proyecto: Wordle"
   ]
  },
  {
   "cell_type": "code",
   "execution_count": null,
   "metadata": {},
   "outputs": [],
   "source": []
  },
  {
   "cell_type": "code",
   "execution_count": null,
   "metadata": {},
   "outputs": [],
   "source": []
  }
 ],
 "metadata": {
  "interpreter": {
   "hash": "d852074cd492bad93834d70e84ce445e7455291a4278253607ab8f6dbaa69cbe"
  },
  "kernelspec": {
   "display_name": "Python 3.10.4 64-bit",
   "language": "python",
   "name": "python3"
  },
  "language_info": {
   "codemirror_mode": {
    "name": "ipython",
    "version": 3
   },
   "file_extension": ".py",
   "mimetype": "text/x-python",
   "name": "python",
   "nbconvert_exporter": "python",
   "pygments_lexer": "ipython3",
   "version": "3.10.4"
  },
  "orig_nbformat": 4
 },
 "nbformat": 4,
 "nbformat_minor": 2
}
