{
 "cells": [
  {
   "cell_type": "markdown",
   "metadata": {},
   "source": [
    "## Programacion Orientada a Objetos"
   ]
  },
  {
   "cell_type": "markdown",
   "metadata": {},
   "source": [
    "### Clases"
   ]
  },
  {
   "cell_type": "code",
   "execution_count": null,
   "metadata": {},
   "outputs": [],
   "source": [
    "#Creando una clase vacia"
   ]
  },
  {
   "cell_type": "markdown",
   "metadata": {},
   "source": [
    "### Definir atributos\n",
    "\n",
    "Dos tipos de atributoss:\n",
    "- atributos de intancia.\n",
    "- atributos de clase."
   ]
  },
  {
   "cell_type": "code",
   "execution_count": null,
   "metadata": {},
   "outputs": [],
   "source": [
    "# Crear clase\n",
    "class Penguin:\n",
    "    # Definiendo un atributo de clase o propiedades\n",
    "    categoria = \"Ave\"\n",
    " \n",
    "    # El metodo __init__ es llamado al crear el objeto\n",
    "    def __init__(self, nombre, especie):\n",
    "        print(\"Creando penguin: \" + \"'\" + nombre + \"', \" + especie)\n",
    " \n",
    "        # Atributos de instancia\n",
    "        self.nombre = nombre\n",
    "        self.especie = especie\n",
    " \n",
    "# Creando un pinguino\n",
    "mi_pinguino = Penguin(\"Enri\", \"Emperador\")\n",
    " \n",
    "# Viendo que tipo de dato es mi_pinguino\n",
    "print(type(mi_pinguino))\n",
    " \n",
    "# Viendo que clase de animal es\n",
    "print(Penguin.categoria)\n",
    "print(mi_pinguino.categoria)\n",
    "print(mi_pinguino.nombre)\n",
    "print(mi_pinguino.especie)"
   ]
  },
  {
   "cell_type": "markdown",
   "metadata": {},
   "source": [
    "## Challenge Objetos"
   ]
  },
  {
   "cell_type": "code",
   "execution_count": 4,
   "metadata": {},
   "outputs": [
    {
     "name": "stdout",
     "output_type": "stream",
     "text": [
      "Mi nombre es Frodo soy un Cuadrúpedos de color Negro\n",
      "Mi nombre es Michi soy un Gatito de color Blanco\n"
     ]
    }
   ],
   "source": [
    "class Perro():\n",
    "    especie=\"Cuadrúpedos\"\n",
    "\n",
    "    def __init__(self, nombre,color):\n",
    "        self.nombre=nombre\n",
    "        self.color=color\n",
    "\n",
    "class Gato():\n",
    "    especie=\"Gatito\"\n",
    "\n",
    "    def __init__(self, nombre,color):\n",
    "        self.nombre=nombre\n",
    "        self.color=color\n",
    "\n",
    "mascota1 = Perro(\"Frodo\",\"Negro\")\n",
    "mascota2 = Gato(\"Michi\",\"Blanco\")\n",
    "\n",
    "print(\"Mi nombre es \"+mascota1.nombre+\" soy un \"+mascota1.especie+\" de color \"+mascota1.color)\n",
    "print(\"Mi nombre es \"+mascota2.nombre+\" soy un \"+mascota2.especie+\" de color \"+mascota2.color)"
   ]
  },
  {
   "cell_type": "markdown",
   "metadata": {},
   "source": [
    "---"
   ]
  },
  {
   "cell_type": "markdown",
   "metadata": {},
   "source": [
    "### Definiendo Metodos"
   ]
  },
  {
   "cell_type": "code",
   "execution_count": null,
   "metadata": {},
   "outputs": [],
   "source": [
    "class Penguin:\n",
    "    # Definiendo un atributo de clase\n",
    "    clase = \"Ave\"\n",
    "\n",
    "    # El método __init__ es llamado al crear el objeto\n",
    "    def __init__(self, nombre, especie):\n",
    "        print(\"Creando pingüino: \" + \"'\" + nombre + \"', \" + especie)\n",
    "\n",
    "        # Atributos de instancia\n",
    "        self.nombre = nombre\n",
    "        self.especie = especie\n",
    "    \n",
    "    def nada(self):\n",
    "        print(\"Wooooshhhhh!!!!!\")\n",
    "\n",
    "    def camina(self, pasos):\n",
    "        print(f\"Caminando {pasos} pasos, lenta y torpemente\")\n",
    "\n",
    "# Creando un pingüino\n",
    "mi_pinguino = Penguin(\"Enri\", \"Emperador\")\n",
    "\n",
    "# Viendo qué tipo de dato es mi_pinguino\n",
    "print(type(mi_pinguino))\n",
    "\n",
    "# Viendo qué clase de animal es\n",
    "print(Penguin.clase)\n",
    "print(mi_pinguino.nombre)\n",
    "\n",
    "# Métodos: acciones de nuestro pinguino\n",
    "mi_pinguino.nada()\n",
    "mi_pinguino.camina(100)"
   ]
  },
  {
   "cell_type": "markdown",
   "metadata": {},
   "source": [
    "### Challenge Metodos"
   ]
  },
  {
   "cell_type": "code",
   "execution_count": 14,
   "metadata": {},
   "outputs": [
    {
     "name": "stdout",
     "output_type": "stream",
     "text": [
      "Mi nombre es Frodo soy un Perruna de color Negro\n",
      "Guau\n",
      "Correr\n",
      "\n",
      "\n",
      "Mi nombre es Michi soy un Gatito de color Blanco\n",
      "Miau\n",
      "Saltar\n"
     ]
    }
   ],
   "source": [
    "class Perro:\n",
    "    especie=\"Perruna\"\n",
    "\n",
    "    def __init__(self, nombre,color):\n",
    "        self.nombre=nombre\n",
    "        self.color=color\n",
    "    \n",
    "    def hablar(self):\n",
    "        print(\"Guau\")\n",
    "    \n",
    "    def mover(Self):\n",
    "        print (\"Correr\")\n",
    "\n",
    "class Gato:\n",
    "    especie=\"Gatito\"\n",
    "\n",
    "    def __init__(self, nombre,color):\n",
    "        self.nombre=nombre\n",
    "        self.color=color\n",
    "    \n",
    "    def hablar(self):\n",
    "        print(\"Miau\")\n",
    "    \n",
    "    def mover(Self):\n",
    "        print (\"Saltar\")\n",
    "\n",
    "mascota1 = Perro(\"Frodo\",\"Negro\")\n",
    "mascota2 = Gato(\"Michi\",\"Blanco\")\n",
    "\n",
    "print(\"Mi nombre es \"+mascota1.nombre+\" soy un \"+mascota1.especie+\" de color \"+mascota1.color)\n",
    "mascota1.hablar();\n",
    "mascota1.mover();\n",
    "print(\"\\n\")\n",
    "\n",
    "print(\"Mi nombre es \"+mascota2.nombre+\" soy un \"+mascota2.especie+\" de color \"+mascota2.color)\n",
    "mascota2.hablar();\n",
    "mascota2.mover();"
   ]
  },
  {
   "cell_type": "markdown",
   "metadata": {},
   "source": [
    "### Herencia"
   ]
  },
  {
   "cell_type": "code",
   "execution_count": null,
   "metadata": {},
   "outputs": [],
   "source": [
    "class Animal:\n",
    "    def __init__(self, especie, edad):\n",
    "        self.especie = especie\n",
    "        self.edad = edad\n",
    "    \n",
    "    # Metodo generico pero con implementacion particular\n",
    "    def hablar(self):\n",
    "        # Metodo vacio\n",
    "        pass\n",
    "\n",
    "    # Metodo generico con la misma implementacion\n",
    "    def describeme(self):\n",
    "        print(\"Soy un animal del tipo\", type(self).__name__)\n",
    "\n",
    "class Serpiente(Animal):\n",
    "    # Definiendo un atributo de clase\n",
    "    categoria = \"reptil\"\n",
    "\n",
    "    def hablar(self):\n",
    "        print(\"ssSSsssSsssSSSSS\")\n",
    "\n",
    "# Corroborar la herencia\n",
    "print(Serpiente.__bases__)\n",
    "print(Animal.__bases__)\n",
    "\n",
    "mi_serpiente = Serpiente(\"Piton\", 10)\n",
    "print(mi_serpiente.especie)\n",
    "print(mi_serpiente.edad)\n",
    "\n",
    "mi_serpiente.hablar()\n",
    "mi_serpiente.describeme()"
   ]
  },
  {
   "cell_type": "markdown",
   "metadata": {},
   "source": [
    "### Challenge Herencia"
   ]
  },
  {
   "cell_type": "code",
   "execution_count": 33,
   "metadata": {},
   "outputs": [
    {
     "name": "stdout",
     "output_type": "stream",
     "text": [
      "Mi nombre es R2-D2  mi peso es:  30\n",
      "Mi nombre es C3PO  mi peso es:  110\n"
     ]
    }
   ],
   "source": [
    "class StarWarsDroid:\n",
    "    def __init__ (self, nombre, peso):\n",
    "        self.nombre=nombre\n",
    "        self.peso=peso\n",
    "    \n",
    "class Droid(StarWarsDroid):\n",
    "    pass\n",
    "\n",
    "class ProtocolDroid(StarWarsDroid):\n",
    "    pass\n",
    "\n",
    "r2d2=Droid(\"R2-D2\",30)\n",
    "c3po=ProtocolDroid(\"C3PO\",110)\n",
    "\n",
    "print(\"Mi nombre es\",r2d2.nombre,\" mi peso es: \",r2d2.peso)\n",
    "print(\"Mi nombre es\",c3po.nombre,\" mi peso es: \",c3po.peso)"
   ]
  },
  {
   "cell_type": "markdown",
   "metadata": {},
   "source": [
    "### Diccionarios"
   ]
  },
  {
   "cell_type": "code",
   "execution_count": null,
   "metadata": {},
   "outputs": [],
   "source": [
    "# Ejemplo de diccionario\n",
    "mi_contacto = {\"nombre\": \"Enmanuel\", \"apellido\": \"Ruffinelli\", \"email\": 'e@ruffinel.li', \"telefono\": 595982440500, \"direccion\": \"Manuel del Castillo\", \"sitioweb\": \"ruffinel.li\"}\n",
    "\n",
    "# Ejemplo de diccionario estilizado para una mejor comprensión de claves y valores\n",
    "{\n",
    "    \"nombre\": \"Enmanuel\",\n",
    "    \"apellido\": \"Ruffinelli\",\n",
    "    \"email\": 'e@ruffinel.li',\n",
    "    \"teléfono\": 595982440500\n",
    "}\n",
    "\n",
    "# Imprimir el diccionario\n",
    "print(mi_contacto)\n",
    "\n",
    "# Acceder a datos del diccionario\n",
    "mi_contacto[\"nombre\"]\n",
    "mi_contacto[\"direccion\"]\n",
    "\n",
    "# Desplegar datos del diccionario\n",
    "mi_contacto.keys()\n",
    "mi_contacto.values()\n",
    "mi_contacto.items()\n",
    "\n",
    "# Añadir datos al diccionario\n",
    "mi_contacto[\"barrio\"] = \"Los Laureles\"\n",
    "print(mi_contacto)\n",
    "\n",
    "# Actualizar datos del diccionario\n",
    "mi_contacto[\"barrio\"] = \"Recoleta\"\n",
    "print(mi_contacto)\n",
    "\n",
    "# Eliminar datos del diccionario: ultimo par\n",
    "mi_contacto.popitem()\n",
    "print(mi_contacto)\n",
    "\n",
    "# Eliminar datos del diccionario: por clave\n",
    "del mi_contacto[\"apellido\"]\n",
    "print(mi_contacto)"
   ]
  },
  {
   "cell_type": "markdown",
   "metadata": {},
   "source": [
    "---"
   ]
  },
  {
   "cell_type": "markdown",
   "metadata": {},
   "source": [
    "### Challenge Diccionarios"
   ]
  },
  {
   "cell_type": "code",
   "execution_count": 35,
   "metadata": {},
   "outputs": [
    {
     "name": "stdout",
     "output_type": "stream",
     "text": [
      "{'nombre': 'javier', 'direccion': 'paraguay'}\n"
     ]
    }
   ],
   "source": [
    "diccionaraio={}\n",
    "testigo=True\n",
    "\n",
    "while testigo==True:\n",
    "    nombre=input(\"Ingrese Nombre:\")\n",
    "    direccion=input(\"Ingrese Direccion: \")\n",
    "    diccionaraio={\n",
    "        \"nombre\":nombre,\n",
    "        \"direccion\":direccion\n",
    "    }\n",
    "    print(diccionaraio)\n",
    "    testigo=False"
   ]
  },
  {
   "cell_type": "code",
   "execution_count": 54,
   "metadata": {},
   "outputs": [
    {
     "name": "stdout",
     "output_type": "stream",
     "text": [
      "{'Nombre': 'Mario'}\n",
      "{'Nombre': 'Mario', 'Apellido': 'Karajallo'}\n"
     ]
    }
   ],
   "source": [
    "diccionario2={}\n",
    "testigo=True\n",
    "\n",
    "while testigo==True:\n",
    "    nombreDato=input(\"Ingrese Nombre de Dato:\")\n",
    "    dato=input(\"Ingrese Dato: \")\n",
    "    diccionario2[nombreDato]=dato\n",
    "    print(diccionario2)\n",
    "    salir=input(\"Escriba 1 para agregara o 0 para salir\")\n",
    "    if salir ==\"0\":\n",
    "        testigo=False\n",
    "    else:\n",
    "        continue"
   ]
  },
  {
   "cell_type": "code",
   "execution_count": 53,
   "metadata": {},
   "outputs": [
    {
     "name": "stdout",
     "output_type": "stream",
     "text": [
      "1. Ingresar Nuevo dato\n",
      "2. Salir\n",
      "Elige una opcion\n",
      "Diccionario=  {'Nombre': 'Mario'} \n",
      "\n",
      "1. Ingresar Nuevo dato\n",
      "2. Salir\n",
      "Elige una opcion\n",
      "Diccionario=  {'Nombre': 'Mario', 'Apellido': 'Karajallo'} \n",
      "\n",
      "1. Ingresar Nuevo dato\n",
      "2. Salir\n",
      "Elige una opcion\n",
      "Fin\n"
     ]
    }
   ],
   "source": [
    "diccionario3={}\n",
    "\n",
    "def pedirDatos():\n",
    "    correcto=False\n",
    "    pedir=0\n",
    "    while(not correcto):\n",
    "        try:\n",
    "            pedir = int(input(\"Introduce opcion: \"))\n",
    "            correcto=True\n",
    "        except ValueError:\n",
    "            print('Error, introducir opcion')\n",
    "     \n",
    "    return pedir\n",
    " \n",
    "salir = False\n",
    "opcion = 0\n",
    " \n",
    "while not salir:\n",
    " \n",
    "    print (\"1. Ingresar Nuevo dato\")\n",
    "    print (\"2. Salir\")\n",
    "    print (\"Elige una opcion\")\n",
    " \n",
    "    opcion = pedirDatos()\n",
    " \n",
    "    if opcion == 1:\n",
    "        nombreDato2=input(\"Ingrese Nombre de Dato:\")\n",
    "        dato2=input(\"Ingrese Dato: \")\n",
    "        diccionario3[nombreDato2]=dato2\n",
    "        print(\"Agenda= \",diccionario3,\"\\n\")\n",
    "    elif opcion == 2:\n",
    "        salir = True\n",
    "    else:\n",
    "        print (\"Introduce la opciones entre 1 y 2\\n\")\n",
    " \n",
    "print (\"Fin\")\n"
   ]
  },
  {
   "cell_type": "markdown",
   "metadata": {},
   "source": [
    "### Challenge 2 (Diccionario)"
   ]
  },
  {
   "cell_type": "code",
   "execution_count": 64,
   "metadata": {},
   "outputs": [
    {
     "name": "stdout",
     "output_type": "stream",
     "text": [
      "1. Ingresar Nuevo Dato\n",
      "2. Modificar Nuevo Dato\n",
      "3. Eliminar Dato\n",
      "4. Salir\n",
      "Elige una opcion\n",
      "Introduce la opciones entre 1 y 4\n",
      "\n",
      "1. Ingresar Nuevo Dato\n",
      "2. Modificar Nuevo Dato\n",
      "3. Eliminar Dato\n",
      "4. Salir\n",
      "Elige una opcion\n"
     ]
    },
    {
     "ename": "KeyboardInterrupt",
     "evalue": "Interrupted by user",
     "output_type": "error",
     "traceback": [
      "\u001b[1;31m---------------------------------------------------------------------------\u001b[0m",
      "\u001b[1;31mKeyboardInterrupt\u001b[0m                         Traceback (most recent call last)",
      "\u001b[1;32mc:\\Users\\mario\\Documents\\Tutoriales\\Peguin-Academy\\Bootcamp\\dia5.ipynb Cell 25'\u001b[0m in \u001b[0;36m<cell line: 19>\u001b[1;34m()\u001b[0m\n\u001b[0;32m     <a href='vscode-notebook-cell:/c%3A/Users/mario/Documents/Tutoriales/Peguin-Academy/Bootcamp/dia5.ipynb#ch0000028?line=26'>27</a>\u001b[0m opcion \u001b[39m=\u001b[39m pedirDatos()\n\u001b[0;32m     <a href='vscode-notebook-cell:/c%3A/Users/mario/Documents/Tutoriales/Peguin-Academy/Bootcamp/dia5.ipynb#ch0000028?line=28'>29</a>\u001b[0m \u001b[39mif\u001b[39;00m opcion \u001b[39m==\u001b[39m \u001b[39m1\u001b[39m:\n\u001b[1;32m---> <a href='vscode-notebook-cell:/c%3A/Users/mario/Documents/Tutoriales/Peguin-Academy/Bootcamp/dia5.ipynb#ch0000028?line=29'>30</a>\u001b[0m     nombreDato4\u001b[39m=\u001b[39m\u001b[39minput\u001b[39;49m(\u001b[39m\"\u001b[39;49m\u001b[39mIngrese Nombre de Dato:\u001b[39;49m\u001b[39m\"\u001b[39;49m)\n\u001b[0;32m     <a href='vscode-notebook-cell:/c%3A/Users/mario/Documents/Tutoriales/Peguin-Academy/Bootcamp/dia5.ipynb#ch0000028?line=30'>31</a>\u001b[0m     dato4\u001b[39m=\u001b[39m\u001b[39minput\u001b[39m(\u001b[39m\"\u001b[39m\u001b[39mIngrese Dato: \u001b[39m\u001b[39m\"\u001b[39m)\n\u001b[0;32m     <a href='vscode-notebook-cell:/c%3A/Users/mario/Documents/Tutoriales/Peguin-Academy/Bootcamp/dia5.ipynb#ch0000028?line=31'>32</a>\u001b[0m     diccionario4[nombreDato4]\u001b[39m=\u001b[39mdato4\n",
      "File \u001b[1;32m~\\AppData\\Local\\Programs\\Python\\Python310\\lib\\site-packages\\ipykernel\\kernelbase.py:1161\u001b[0m, in \u001b[0;36mKernel.raw_input\u001b[1;34m(self, prompt)\u001b[0m\n\u001b[0;32m   <a href='file:///c%3A/Users/mario/AppData/Local/Programs/Python/Python310/lib/site-packages/ipykernel/kernelbase.py?line=1156'>1157</a>\u001b[0m \u001b[39mif\u001b[39;00m \u001b[39mnot\u001b[39;00m \u001b[39mself\u001b[39m\u001b[39m.\u001b[39m_allow_stdin:\n\u001b[0;32m   <a href='file:///c%3A/Users/mario/AppData/Local/Programs/Python/Python310/lib/site-packages/ipykernel/kernelbase.py?line=1157'>1158</a>\u001b[0m     \u001b[39mraise\u001b[39;00m StdinNotImplementedError(\n\u001b[0;32m   <a href='file:///c%3A/Users/mario/AppData/Local/Programs/Python/Python310/lib/site-packages/ipykernel/kernelbase.py?line=1158'>1159</a>\u001b[0m         \u001b[39m\"\u001b[39m\u001b[39mraw_input was called, but this frontend does not support input requests.\u001b[39m\u001b[39m\"\u001b[39m\n\u001b[0;32m   <a href='file:///c%3A/Users/mario/AppData/Local/Programs/Python/Python310/lib/site-packages/ipykernel/kernelbase.py?line=1159'>1160</a>\u001b[0m     )\n\u001b[1;32m-> <a href='file:///c%3A/Users/mario/AppData/Local/Programs/Python/Python310/lib/site-packages/ipykernel/kernelbase.py?line=1160'>1161</a>\u001b[0m \u001b[39mreturn\u001b[39;00m \u001b[39mself\u001b[39;49m\u001b[39m.\u001b[39;49m_input_request(\n\u001b[0;32m   <a href='file:///c%3A/Users/mario/AppData/Local/Programs/Python/Python310/lib/site-packages/ipykernel/kernelbase.py?line=1161'>1162</a>\u001b[0m     \u001b[39mstr\u001b[39;49m(prompt),\n\u001b[0;32m   <a href='file:///c%3A/Users/mario/AppData/Local/Programs/Python/Python310/lib/site-packages/ipykernel/kernelbase.py?line=1162'>1163</a>\u001b[0m     \u001b[39mself\u001b[39;49m\u001b[39m.\u001b[39;49m_parent_ident[\u001b[39m\"\u001b[39;49m\u001b[39mshell\u001b[39;49m\u001b[39m\"\u001b[39;49m],\n\u001b[0;32m   <a href='file:///c%3A/Users/mario/AppData/Local/Programs/Python/Python310/lib/site-packages/ipykernel/kernelbase.py?line=1163'>1164</a>\u001b[0m     \u001b[39mself\u001b[39;49m\u001b[39m.\u001b[39;49mget_parent(\u001b[39m\"\u001b[39;49m\u001b[39mshell\u001b[39;49m\u001b[39m\"\u001b[39;49m),\n\u001b[0;32m   <a href='file:///c%3A/Users/mario/AppData/Local/Programs/Python/Python310/lib/site-packages/ipykernel/kernelbase.py?line=1164'>1165</a>\u001b[0m     password\u001b[39m=\u001b[39;49m\u001b[39mFalse\u001b[39;49;00m,\n\u001b[0;32m   <a href='file:///c%3A/Users/mario/AppData/Local/Programs/Python/Python310/lib/site-packages/ipykernel/kernelbase.py?line=1165'>1166</a>\u001b[0m )\n",
      "File \u001b[1;32m~\\AppData\\Local\\Programs\\Python\\Python310\\lib\\site-packages\\ipykernel\\kernelbase.py:1205\u001b[0m, in \u001b[0;36mKernel._input_request\u001b[1;34m(self, prompt, ident, parent, password)\u001b[0m\n\u001b[0;32m   <a href='file:///c%3A/Users/mario/AppData/Local/Programs/Python/Python310/lib/site-packages/ipykernel/kernelbase.py?line=1201'>1202</a>\u001b[0m             \u001b[39mbreak\u001b[39;00m\n\u001b[0;32m   <a href='file:///c%3A/Users/mario/AppData/Local/Programs/Python/Python310/lib/site-packages/ipykernel/kernelbase.py?line=1202'>1203</a>\u001b[0m \u001b[39mexcept\u001b[39;00m \u001b[39mKeyboardInterrupt\u001b[39;00m:\n\u001b[0;32m   <a href='file:///c%3A/Users/mario/AppData/Local/Programs/Python/Python310/lib/site-packages/ipykernel/kernelbase.py?line=1203'>1204</a>\u001b[0m     \u001b[39m# re-raise KeyboardInterrupt, to truncate traceback\u001b[39;00m\n\u001b[1;32m-> <a href='file:///c%3A/Users/mario/AppData/Local/Programs/Python/Python310/lib/site-packages/ipykernel/kernelbase.py?line=1204'>1205</a>\u001b[0m     \u001b[39mraise\u001b[39;00m \u001b[39mKeyboardInterrupt\u001b[39;00m(\u001b[39m\"\u001b[39m\u001b[39mInterrupted by user\u001b[39m\u001b[39m\"\u001b[39m) \u001b[39mfrom\u001b[39;00m \u001b[39mNone\u001b[39m\n\u001b[0;32m   <a href='file:///c%3A/Users/mario/AppData/Local/Programs/Python/Python310/lib/site-packages/ipykernel/kernelbase.py?line=1205'>1206</a>\u001b[0m \u001b[39mexcept\u001b[39;00m \u001b[39mException\u001b[39;00m:\n\u001b[0;32m   <a href='file:///c%3A/Users/mario/AppData/Local/Programs/Python/Python310/lib/site-packages/ipykernel/kernelbase.py?line=1206'>1207</a>\u001b[0m     \u001b[39mself\u001b[39m\u001b[39m.\u001b[39mlog\u001b[39m.\u001b[39mwarning(\u001b[39m\"\u001b[39m\u001b[39mInvalid Message:\u001b[39m\u001b[39m\"\u001b[39m, exc_info\u001b[39m=\u001b[39m\u001b[39mTrue\u001b[39;00m)\n",
      "\u001b[1;31mKeyboardInterrupt\u001b[0m: Interrupted by user"
     ]
    }
   ],
   "source": [
    "import os\n",
    "diccionario4={}\n",
    "\n",
    "def pedirDatos():\n",
    "    correcto=False\n",
    "    pedir=0\n",
    "    while(not correcto):\n",
    "        try:\n",
    "            pedir = int(input(\"Introduce opcion: \"))\n",
    "            correcto=True\n",
    "        except ValueError:\n",
    "            print('Error, introducir opcion')\n",
    "     \n",
    "    return pedir\n",
    " \n",
    "salir = False\n",
    "opcion = 0\n",
    " \n",
    "while not salir:\n",
    "    os.system('cls')\n",
    "    print (\"1. Ingresar Nuevo Dato\")\n",
    "    print (\"2. Modificar Nuevo Dato\")\n",
    "    print (\"3. Eliminar Dato\")\n",
    "    print (\"4. Salir\")\n",
    "    print (\"Elige una opcion\")\n",
    " \n",
    "    opcion = pedirDatos()\n",
    " \n",
    "    if opcion == 1:\n",
    "        nombreDato4=input(\"Ingrese Nombre de Dato:\")\n",
    "        dato4=input(\"Ingrese Dato: \")\n",
    "        diccionario4[nombreDato4]=dato4\n",
    "        os.system('cls')\n",
    "        print(\"Agenda= \",diccionario4,\"\\n\")\n",
    "\n",
    "    elif opcion == 2:\n",
    "        nombreDato4=input(\"Ingrese Dato a modificar:\")\n",
    "        dato4=input(\"Ingrese Nuevo Dato: \")\n",
    "        diccionario4[nombreDato4]=dato4\n",
    "        print(\"Agenda Modificada= \",diccionario4,\"\\n\")\n",
    "\n",
    "    elif opcion == 3:\n",
    "        nombreDato4=input(\"Ingrese Dato a eliminar:\")\n",
    "        del diccionario4[nombreDato4]\n",
    "        print(\"Agenda Modificada= \",diccionario4,\"\\n\")\n",
    "\n",
    "    elif opcion == 4:\n",
    "        salir = True\n",
    "    \n",
    "    else:\n",
    "        print (\"Introduce la opciones entre 1 y 4\\n\")\n",
    " \n",
    "print (\"Fin\")\n"
   ]
  }
 ],
 "metadata": {
  "interpreter": {
   "hash": "d852074cd492bad93834d70e84ce445e7455291a4278253607ab8f6dbaa69cbe"
  },
  "kernelspec": {
   "display_name": "Python 3.10.4 64-bit",
   "language": "python",
   "name": "python3"
  },
  "language_info": {
   "codemirror_mode": {
    "name": "ipython",
    "version": 3
   },
   "file_extension": ".py",
   "mimetype": "text/x-python",
   "name": "python",
   "nbconvert_exporter": "python",
   "pygments_lexer": "ipython3",
   "version": "3.10.4"
  },
  "orig_nbformat": 4
 },
 "nbformat": 4,
 "nbformat_minor": 2
}
