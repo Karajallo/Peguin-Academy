{
 "cells": [
  {
   "cell_type": "markdown",
   "metadata": {},
   "source": [
    "# Wordle 💬"
   ]
  },
  {
   "cell_type": "code",
   "execution_count": 4,
   "metadata": {},
   "outputs": [
    {
     "name": "stdout",
     "output_type": "stream",
     "text": [
      "patio\n"
     ]
    }
   ],
   "source": [
    "def p(palabra):\n",
    "    print (palabra)\n",
    "\n",
    "p(\"patio\")"
   ]
  },
  {
   "cell_type": "code",
   "execution_count": 21,
   "metadata": {},
   "outputs": [
    {
     "name": "stdout",
     "output_type": "stream",
     "text": [
      "Las letrass son iguales\n"
     ]
    }
   ],
   "source": [
    "def letras(l1,l2):\n",
    "    if l1 ==l2:\n",
    "        print(\"Las letrass son iguales\")\n",
    "    else:\n",
    "        print(\"Las letras son diferentes\")\n",
    "\n",
    "letras(\"a\",\"a\")"
   ]
  },
  {
   "cell_type": "markdown",
   "metadata": {},
   "source": [
    "# Funciones:  return"
   ]
  },
  {
   "cell_type": "code",
   "execution_count": 73,
   "metadata": {},
   "outputs": [
    {
     "name": "stdout",
     "output_type": "stream",
     "text": [
      "x\n"
     ]
    }
   ],
   "source": [
    "palabra3=\"patio\"\n",
    "\n",
    "def i(letra3):\n",
    "    if letra3 in palabra3:\n",
    "        return \"[\",letra3,\"]\"\n",
    "    else:\n",
    "        return letra3\n",
    "\n",
    "print(i(\"x\"))\n"
   ]
  },
  {
   "cell_type": "code",
   "execution_count": 74,
   "metadata": {},
   "outputs": [
    {
     "name": "stdout",
     "output_type": "stream",
     "text": [
      "False\n"
     ]
    }
   ],
   "source": [
    "def i(palabra4,num1):\n",
    "    if num1 == len(palabra4):\n",
    "        return True\n",
    "    else:\n",
    "        return False\n",
    "\n",
    "print(i(\"hola\",5))"
   ]
  },
  {
   "cell_type": "markdown",
   "metadata": {},
   "source": [
    "### funciones built-in: input()"
   ]
  },
  {
   "cell_type": "markdown",
   "metadata": {},
   "source": [
    "### funciones built-in : list()"
   ]
  },
  {
   "cell_type": "code",
   "execution_count": 30,
   "metadata": {},
   "outputs": [
    {
     "name": "stdout",
     "output_type": "stream",
     "text": [
      "[['h', 'o', 'l', 'a']]\n",
      "[['h', 'o', 'l', 'a'], ['c', 'h', 'a', 'u']]\n",
      "[['h', 'o', 'l', 'a'], ['c', 'h', 'a', 'u'], ['n', 'u', 'b', 'e']]\n"
     ]
    }
   ],
   "source": [
    "lista2=[]\n",
    "cont=0\n",
    "\n",
    "while cont<3:\n",
    "    palabra4 = list(input(\"Ingrese Palabra\"))\n",
    "    lista2.append(palabra4)\n",
    "    print(lista2)\n",
    "    cont+=1\n",
    "\n"
   ]
  },
  {
   "cell_type": "markdown",
   "metadata": {},
   "source": [
    "### bucles `for`"
   ]
  },
  {
   "cell_type": "code",
   "execution_count": 31,
   "metadata": {},
   "outputs": [
    {
     "name": "stdout",
     "output_type": "stream",
     "text": [
      "['h', 'o', 'l', 'a']\n",
      "['c', 'h', 'a', 'u']\n",
      "['n', 'u', 'b', 'e']\n"
     ]
    }
   ],
   "source": [
    "def imprimir_grilla(lista_palabras):\n",
    "    for i in range(len(lista_palabras)):\n",
    "        print (lista_palabras[i])\n",
    "imprimir_grilla(lista2)"
   ]
  },
  {
   "cell_type": "markdown",
   "metadata": {},
   "source": [
    "## bucle `while`"
   ]
  },
  {
   "cell_type": "code",
   "execution_count": 59,
   "metadata": {},
   "outputs": [
    {
     "name": "stdout",
     "output_type": "stream",
     "text": [
      "* a *  Posicion  0\n",
      "x u x  Posicion  1\n",
      "x d x  Posicion  2\n",
      "✓ i ✓  Posicion  3\n",
      "✓ o ✓  Posicion  4\n"
     ]
    }
   ],
   "source": [
    "palabra= [\"p\",\"a\",\"t\",\"i\",\"o\"]\n",
    "palabra2= [\"a\",\"u\",\"d\",\"i\",\"o\"]\n",
    "intentos= 0\n",
    "for i in range(len(palabra)):\n",
    "    #print (i,palabra[i])\n",
    "    #print (i,palabra2[i])\n",
    "    if palabra2[i] in palabra:\n",
    "        if palabra2[i] == palabra[i]:\n",
    "            print(\"✓\",palabra[i],\"✓\",\" Posicion \",i)\n",
    "        else:\n",
    "            print(\"*\",palabra2[i],\"*\",\" Posicion \",i) \n",
    "    else:\n",
    "        print(\"x\",palabra2[i],\"x\",\" Posicion \",i)\n"
   ]
  }
 ],
 "metadata": {
  "interpreter": {
   "hash": "d852074cd492bad93834d70e84ce445e7455291a4278253607ab8f6dbaa69cbe"
  },
  "kernelspec": {
   "display_name": "Python 3.10.4 64-bit",
   "language": "python",
   "name": "python3"
  },
  "language_info": {
   "codemirror_mode": {
    "name": "ipython",
    "version": 3
   },
   "file_extension": ".py",
   "mimetype": "text/x-python",
   "name": "python",
   "nbconvert_exporter": "python",
   "pygments_lexer": "ipython3",
   "version": "3.10.4"
  },
  "orig_nbformat": 4
 },
 "nbformat": 4,
 "nbformat_minor": 2
}
