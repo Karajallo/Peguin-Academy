{
 "cells": [
  {
   "cell_type": "markdown",
   "metadata": {},
   "source": [
    "# Primer Encuentro con Python"
   ]
  },
  {
   "cell_type": "code",
   "execution_count": 2,
   "metadata": {},
   "outputs": [
    {
     "name": "stdout",
     "output_type": "stream",
     "text": [
      "Hola Mundo\n"
     ]
    }
   ],
   "source": [
    "print (\"Hola Mundo\")"
   ]
  },
  {
   "cell_type": "markdown",
   "metadata": {},
   "source": [
    "# Variable"
   ]
  },
  {
   "cell_type": "code",
   "execution_count": 4,
   "metadata": {},
   "outputs": [
    {
     "name": "stdout",
     "output_type": "stream",
     "text": [
      "10\n"
     ]
    }
   ],
   "source": [
    "numero1 = 10;\n",
    "print(numero1);"
   ]
  },
  {
   "cell_type": "markdown",
   "metadata": {},
   "source": [
    "# Ejemplo con Hola Mundo"
   ]
  },
  {
   "cell_type": "code",
   "execution_count": 5,
   "metadata": {},
   "outputs": [
    {
     "name": "stdout",
     "output_type": "stream",
     "text": [
      "Hola Mundo\n"
     ]
    }
   ],
   "source": [
    "saludo = \"Hola Mundo\";\n",
    "print(saludo);"
   ]
  },
  {
   "cell_type": "markdown",
   "metadata": {},
   "source": [
    "# Tipos de Datos"
   ]
  },
  {
   "cell_type": "code",
   "execution_count": 1,
   "metadata": {},
   "outputs": [
    {
     "name": "stdout",
     "output_type": "stream",
     "text": [
      "maitei\n",
      "100\n",
      "3.14\n"
     ]
    }
   ],
   "source": [
    "saludo = \"maitei\"; # texto->string -> str\n",
    "\n",
    "cantidad = 100; # numero entero -> integer -> int\n",
    "\n",
    "pi = 3.14 ; # numero decimal -> floating number -> float\n",
    "\n",
    "print(saludo);\n",
    "print(cantidad);\n",
    "print(pi);\n"
   ]
  },
  {
   "cell_type": "markdown",
   "metadata": {},
   "source": [
    "# Operaciones Matemamaticas"
   ]
  },
  {
   "cell_type": "code",
   "execution_count": null,
   "metadata": {},
   "outputs": [],
   "source": [
    "# Suma\n",
    "print (2 + 2);\n",
    "# resta\n",
    "print (20-15);\n",
    "# division\n",
    "print (10/2);\n",
    "# multiplicacion\n",
    "print (2*2);"
   ]
  },
  {
   "cell_type": "markdown",
   "metadata": {},
   "source": [
    "# Challenge"
   ]
  },
  {
   "cell_type": "code",
   "execution_count": 3,
   "metadata": {},
   "outputs": [
    {
     "name": "stdout",
     "output_type": "stream",
     "text": [
      "5\n",
      "4\n"
     ]
    }
   ],
   "source": [
    "cantidad_de_naranjas = 2;\n",
    "cantidad_de_manzanas = 3;\n",
    "cantidad_de_frutas= cantidad_de_naranjas + cantidad_de_manzanas;\n",
    "print(cantidad_de_frutas);\n",
    "\n",
    "frutas_comidas=1;\n",
    "frutas_restantes= cantidad_de_frutas - frutas_comidas;\n",
    "print(frutas_restantes);"
   ]
  },
  {
   "cell_type": "markdown",
   "metadata": {},
   "source": [
    "# Jugando con texto"
   ]
  },
  {
   "cell_type": "code",
   "execution_count": 5,
   "metadata": {},
   "outputs": [],
   "source": [
    "nombre = \"\"\n",
    "apellido= \"\"\n",
    "\n",
    "#concatenacion\n",
    "print()\n",
    "#dos variables\n",
    "# resultado mas esteticos"
   ]
  },
  {
   "cell_type": "markdown",
   "metadata": {},
   "source": [
    "# Challenge Concatenacion"
   ]
  },
  {
   "cell_type": "code",
   "execution_count": 7,
   "metadata": {},
   "outputs": [
    {
     "name": "stdout",
     "output_type": "stream",
     "text": [
      "Hola. Mi nombre es Frodo bolson. Mucho gusto\n"
     ]
    }
   ],
   "source": [
    "nombre=\"Frodo\";\n",
    "apellido=\"bolson\";\n",
    "print('Hola. Mi nombre es '+nombre+' '+apellido+'. Mucho gusto');"
   ]
  },
  {
   "cell_type": "markdown",
   "metadata": {},
   "source": [
    "# Obteniendo datos del Usuario"
   ]
  },
  {
   "cell_type": "code",
   "execution_count": null,
   "metadata": {},
   "outputs": [],
   "source": []
  },
  {
   "cell_type": "markdown",
   "metadata": {},
   "source": [
    "# Funciones"
   ]
  },
  {
   "cell_type": "code",
   "execution_count": null,
   "metadata": {},
   "outputs": [],
   "source": [
    "#Funcion con texto\n"
   ]
  },
  {
   "cell_type": "markdown",
   "metadata": {},
   "source": [
    "# Parametros y Argumentos"
   ]
  },
  {
   "cell_type": "code",
   "execution_count": null,
   "metadata": {},
   "outputs": [],
   "source": []
  },
  {
   "cell_type": "markdown",
   "metadata": {},
   "source": [
    "# Challenge Funciones"
   ]
  },
  {
   "cell_type": "code",
   "execution_count": 28,
   "metadata": {},
   "outputs": [
    {
     "name": "stdout",
     "output_type": "stream",
     "text": [
      "3\n"
     ]
    }
   ],
   "source": [
    "def suma(num_1,num_2):\n",
    "    resultado = num_1+num_2\n",
    "    print(resultado)\n",
    "\n",
    "suma(2,1)"
   ]
  },
  {
   "cell_type": "markdown",
   "metadata": {},
   "source": [
    "# Alcance (scope)"
   ]
  },
  {
   "cell_type": "markdown",
   "metadata": {},
   "source": [
    "# Funciones Personalizada vs Funcion built-int"
   ]
  },
  {
   "cell_type": "markdown",
   "metadata": {},
   "source": [
    "# Challenge IVA"
   ]
  },
  {
   "cell_type": "code",
   "execution_count": 44,
   "metadata": {},
   "outputs": [
    {
     "ename": "ValueError",
     "evalue": "invalid literal for int() with base 10: ''",
     "output_type": "error",
     "traceback": [
      "\u001b[1;31m---------------------------------------------------------------------------\u001b[0m",
      "\u001b[1;31mValueError\u001b[0m                                Traceback (most recent call last)",
      "\u001b[1;32mc:\\Users\\mario\\Documents\\Tutoriales\\Penguin Academy\\Bootcamp\\dia1.ipynb Cell 28'\u001b[0m in \u001b[0;36m<cell line: 6>\u001b[1;34m()\u001b[0m\n\u001b[0;32m      <a href='vscode-notebook-cell:/c%3A/Users/mario/Documents/Tutoriales/Penguin%20Academy/Bootcamp/dia1.ipynb#ch0000031?line=2'>3</a>\u001b[0m     iva \u001b[39m=\u001b[39m \u001b[39mround\u001b[39m(monto \u001b[39m*\u001b[39m \u001b[39m0.11\u001b[39m);\n\u001b[0;32m      <a href='vscode-notebook-cell:/c%3A/Users/mario/Documents/Tutoriales/Penguin%20Academy/Bootcamp/dia1.ipynb#ch0000031?line=3'>4</a>\u001b[0m     \u001b[39mprint\u001b[39m(iva);\n\u001b[1;32m----> <a href='vscode-notebook-cell:/c%3A/Users/mario/Documents/Tutoriales/Penguin%20Academy/Bootcamp/dia1.ipynb#ch0000031?line=5'>6</a>\u001b[0m calcular_iva(\u001b[39minput\u001b[39;49m(\u001b[39m\"\u001b[39;49m\u001b[39mMonto a pagar sin iva\u001b[39;49m\u001b[39m\"\u001b[39;49m))\n",
      "\u001b[1;32mc:\\Users\\mario\\Documents\\Tutoriales\\Penguin Academy\\Bootcamp\\dia1.ipynb Cell 28'\u001b[0m in \u001b[0;36mcalcular_iva\u001b[1;34m(valor)\u001b[0m\n\u001b[0;32m      <a href='vscode-notebook-cell:/c%3A/Users/mario/Documents/Tutoriales/Penguin%20Academy/Bootcamp/dia1.ipynb#ch0000031?line=0'>1</a>\u001b[0m \u001b[39mdef\u001b[39;00m \u001b[39mcalcular_iva\u001b[39m(valor):\n\u001b[1;32m----> <a href='vscode-notebook-cell:/c%3A/Users/mario/Documents/Tutoriales/Penguin%20Academy/Bootcamp/dia1.ipynb#ch0000031?line=1'>2</a>\u001b[0m     monto \u001b[39m=\u001b[39m \u001b[39mint\u001b[39;49m(valor);\n\u001b[0;32m      <a href='vscode-notebook-cell:/c%3A/Users/mario/Documents/Tutoriales/Penguin%20Academy/Bootcamp/dia1.ipynb#ch0000031?line=2'>3</a>\u001b[0m     iva \u001b[39m=\u001b[39m \u001b[39mround\u001b[39m(monto \u001b[39m*\u001b[39m \u001b[39m0.11\u001b[39m);\n\u001b[0;32m      <a href='vscode-notebook-cell:/c%3A/Users/mario/Documents/Tutoriales/Penguin%20Academy/Bootcamp/dia1.ipynb#ch0000031?line=3'>4</a>\u001b[0m     \u001b[39mprint\u001b[39m(iva)\n",
      "\u001b[1;31mValueError\u001b[0m: invalid literal for int() with base 10: ''"
     ]
    }
   ],
   "source": [
    "def calcular_iva(valor):\n",
    "    monto = int(valor);\n",
    "    iva = round(monto * 0.11);\n",
    "    print(iva);\n",
    "\n",
    "calcular_iva(input(\"Monto a pagar sin iva\"));"
   ]
  },
  {
   "cell_type": "markdown",
   "metadata": {},
   "source": [
    "# Condicionales"
   ]
  },
  {
   "cell_type": "code",
   "execution_count": null,
   "metadata": {},
   "outputs": [],
   "source": []
  }
 ],
 "metadata": {
  "interpreter": {
   "hash": "d852074cd492bad93834d70e84ce445e7455291a4278253607ab8f6dbaa69cbe"
  },
  "kernelspec": {
   "display_name": "Python 3.10.4 64-bit",
   "language": "python",
   "name": "python3"
  },
  "language_info": {
   "codemirror_mode": {
    "name": "ipython",
    "version": 3
   },
   "file_extension": ".py",
   "mimetype": "text/x-python",
   "name": "python",
   "nbconvert_exporter": "python",
   "pygments_lexer": "ipython3",
   "version": "3.10.4"
  },
  "orig_nbformat": 4
 },
 "nbformat": 4,
 "nbformat_minor": 2
}
